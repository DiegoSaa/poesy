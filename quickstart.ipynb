{
 "cells": [
  {
   "cell_type": "markdown",
   "metadata": {},
   "source": [
    "# Quickstart to Poetix"
   ]
  },
  {
   "cell_type": "code",
   "execution_count": 1,
   "metadata": {},
   "outputs": [],
   "source": [
    "from poetix import Poem"
   ]
  },
  {
   "cell_type": "code",
   "execution_count": 2,
   "metadata": {},
   "outputs": [],
   "source": [
    "sonnet = Poem(u\"\"\"\n",
    "When in the chronicle of wasted time\n",
    "I see descriptions of the fairest wights,\n",
    "And beauty making beautiful old rhyme\n",
    "In praise of ladies dead and lovely knights,\n",
    "Then, in the blazon of sweet beauty's best,\n",
    "Of hand, of foot, of lip, of eye, of brow,\n",
    "I see their antique pen would have express'd\n",
    "Even such a beauty as you master now.\n",
    "So all their praises are but prophecies\n",
    "Of this our time, all you prefiguring;\n",
    "And, for they look'd but with divining eyes,\n",
    "They had not skill enough your worth to sing:\n",
    "For we, which now behold these present days,\n",
    "Had eyes to wonder, but lack tongues to praise.\"\"\")"
   ]
  },
  {
   "cell_type": "code",
   "execution_count": 3,
   "metadata": {},
   "outputs": [],
   "source": [
    "la_belle_dame = Poem(fn='poems/keats.la_belle_dame_sans_merci.txt')"
   ]
  },
  {
   "cell_type": "code",
   "execution_count": 5,
   "metadata": {},
   "outputs": [
    {
     "name": "stdout",
     "output_type": "stream",
     "text": [
      "  (#s,#l)  parse                                         rhyme      #feet    #syll    #parse\n",
      "---------  --------------------------------------------  -------  -------  -------  --------\n",
      "      1.1  o|WHAT|can|AIL|thee|KNIGHT|at|ARMS            -              4        8         1\n",
      "      1.2  al|ONE|and|PALE|ly|LOI|tering                 b              3        7         1\n",
      "      1.3  the|SEDGE|has|WITH|ered|FROM*|the|LAKE        b              4        8         2\n",
      "      1.4  and|NO|birds*|SING                            b              2        4         1\n",
      "\n",
      "      2.1  o|WHAT|can|AIL|thee|KNIGHT|at|ARMS            c              4        8         1\n",
      "      2.2  so|HAG|gard|AND*|so|WOE|be|GONE               c              4        8         2\n",
      "      2.3  the|SQUIR|rel’s|GR|an|ARY*|is|FULL            -              4        8         3\n",
      "      2.4  and.the|HAR|vest’s|DONE                       -              2        5         1\n",
      "\n",
      "      3.1  i|SEE|a|LI|ly|ON*|thy|BROW                    f              4        8         2\n",
      "      3.2  with|AN|guish|MOIST|and|FEV|er|DEW            f              4        8         1\n",
      "      3.3  AND*|on.thy|CHEEKS|a|FAD|ing|ROSE             -              4        8         2\n",
      "      3.4  FAST.WI*|th.ereth*|TOO                        f              2        5         4\n",
      "\n",
      "      4.1  i|MET|a|LA|dy|IN|the|MEADS                    -              4        8         1\n",
      "      4.2  FULL.BEAU*|ti|FUL*|a|FA|ery’s|CHILD           i              4        8         2\n",
      "      4.3  her|HAIR|was|LONG|her|FOOT|was|LIGHT          i              4        8         1\n",
      "      4.4  and.her|EYES|were|WILD                        i              2        5         1\n",
      "\n",
      "      5.1  i|MADE|a|GAR|land|FOR*|her|HEAD               -              4        8         1\n",
      "      5.2  and|BRAC|elets|TOO|and|FRA|grant|ZONE         k              4        8         1\n",
      "      5.3  SHE|looked*|AT|me.as|SHE|did|LOVE             -              4        8         4\n",
      "      5.4  and|MADE|sweet*|MOAN                          k              2        4         1\n",
      "\n",
      "      6.1  i|SET|her|ON*|my|PAC|ing|STEED                -              4        8         1\n",
      "      6.2  and|NOTH|ing|ELSE|saw*|ALL|day*|LONG          n              4        8         4\n",
      "      6.3  for|SIDE|long|WOULD|she|BEND|and|SING         n              4        8         1\n",
      "      6.4  a|FA|ery’s|SONG                               n              2        4         1\n",
      "\n",
      "      7.1  she|FOUND|me|ROOTS|of|REL|ish|SWEET           o              4        8         1\n",
      "      7.2  and|HON|ey|WILD|and|MAN|na|DEW                p              4        8         1\n",
      "      7.3  and|SURE|in|LAN|guage|STRANGE|she|SAID        o              4        8         1\n",
      "      7.4  i|LOVE|thee|TRUE                              p              2        4         1\n",
      "\n",
      "      8.1  she|TOOK|me|TO*|her|EL|fin|GROT               -              4        8         1\n",
      "      8.2  and.there|SHE.WEPT*|and|SIGHED|full*|SORE     r              3        8         3\n",
      "      8.3  and.there|I.SHUT*|her|WILD|wild*|EYES         -              3        8         3\n",
      "      8.4  with|KISS|es|FOUR                             r              2        4         1\n",
      "\n",
      "      9.1  and.there|SHE|lull*|ED|me.asl*|EEP            -              3        8         9\n",
      "      9.2  and.there|I.DREAMED*|ah|WOE|be|TIDE           u              3        8         3\n",
      "      9.3  the|LAT|est|DREAM|i|EV|er|DREAMT              -              4        8         1\n",
      "      9.4  on.the|COLD|hill*|SIDE                        u              2        5         1\n",
      "\n",
      "     10.1  i|SAW|pale*|KINGS|and|PRI|nces|TOO            -              4        8         1\n",
      "     10.2  PALE.WAR*|riors|DEATH.PALE*|were|THEY|all     x              3        8         8\n",
      "     10.3  THEY|cried*|LA|belle*|DAME|sans*|MER|ci       -              4        8         7\n",
      "     10.4  thee|HATH|in|THRALL                           x              2        4         1\n",
      "\n",
      "     11.1  i|SAW|their|STARVED.LIPS*|in.the|GLOAM        -              3        8         2\n",
      "     11.2  with|HOR|rid|WARN|ing|GAP|ed*|WIDE            27             4        8         1\n",
      "     11.3  and|I|aw|OKE|and|FOUND|me|HERE                -              4        8         2\n",
      "     11.4  on.the|COLD|hill’s*|SIDE                      27             2        5         1\n",
      "\n",
      "     12.1  and.this|IS|why.i|SO|journ|HERE               29             3        8         1\n",
      "     12.2  al|ONE|and|PALE|ly|LOI|tering                 29             3        7         1\n",
      "     12.3  though.the|SEDGE|is|WITH|ered|FROM*|the|LAKE  29             4        9         2\n",
      "     12.4  and|NO|birds*|SING                            29             2        4         1\n",
      "\n",
      "\n",
      "estimated schema\n",
      "----------\n",
      "meter: Iambic\n",
      "feet: Complex (4-4-4-2)\n",
      "syllables: Complex (8-8-8-4)\n",
      "rhyme: Alternating B (abcb)\n"
     ]
    }
   ],
   "source": [
    "# See how poetix understood the poem\n",
    "la_belle_dame.summary()"
   ]
  },
  {
   "cell_type": "code",
   "execution_count": null,
   "metadata": {},
   "outputs": [],
   "source": [
    "sonnet.prosodic[(1,1)].allParses()"
   ]
  },
  {
   "cell_type": "code",
   "execution_count": null,
   "metadata": {},
   "outputs": [],
   "source": [
    "# Syllable scheme\n",
    "sonnet.statd"
   ]
  },
  {
   "cell_type": "code",
   "execution_count": null,
   "metadata": {},
   "outputs": [],
   "source": []
  }
 ],
 "metadata": {
  "kernelspec": {
   "display_name": "Python 2",
   "language": "python",
   "name": "python2"
  },
  "language_info": {
   "codemirror_mode": {
    "name": "ipython",
    "version": 2
   },
   "file_extension": ".py",
   "mimetype": "text/x-python",
   "name": "python",
   "nbconvert_exporter": "python",
   "pygments_lexer": "ipython2",
   "version": "2.7.15"
  }
 },
 "nbformat": 4,
 "nbformat_minor": 2
}
