{
 "cells": [
  {
   "cell_type": "markdown",
   "metadata": {},
   "source": [
    "# Quickstart to Poetix"
   ]
  },
  {
   "cell_type": "code",
   "execution_count": 1,
   "metadata": {},
   "outputs": [],
   "source": [
    "from poetix import Poem"
   ]
  },
  {
   "cell_type": "code",
   "execution_count": 6,
   "metadata": {},
   "outputs": [],
   "source": [
    "sonnet = Poem(u\"\"\"\n",
    "When in the chronicle of wasted time\n",
    "I see descriptions of the fairest wights,\n",
    "And beauty making beautiful old rhyme\n",
    "In praise of ladies dead and lovely knights,\n",
    "Then, in the blazon of sweet beauty's best,\n",
    "Of hand, of foot, of lip, of eye, of brow,\n",
    "I see their antique pen would have express'd\n",
    "Even such a beauty as you master now.\n",
    "So all their praises are but prophecies\n",
    "Of this our time, all you prefiguring;\n",
    "And, for they look'd but with divining eyes,\n",
    "They had not skill enough your worth to sing:\n",
    "For we, which now behold these present days,\n",
    "Had eyes to wonder, but lack tongues to praise.\"\"\")"
   ]
  },
  {
   "cell_type": "code",
   "execution_count": 8,
   "metadata": {},
   "outputs": [
    {
     "name": "stdout",
     "output_type": "stream",
     "text": [
      "  (#s,#l)  parse                                             rhyme      #feet    #syll    #parse\n",
      "---------  ------------------------------------------------  -------  -------  -------  --------\n",
      "     1.1   WHEN|in.the|CHRON|i|CLE*|of|WAST|ed|TIME          a              5       10         2\n",
      "     1.2   i|SEE|de|SCRIP|tions|OF*|the|FAI|rest|WIGHTS      b              5       10         1\n",
      "     1.3   and|BEAU|ty|MAK|ing|BEAU|ti|FUL*|old*|RHYME       a              5       10         3\n",
      "     1.4   in|PRAISE|of|LAD|ies|DEAD|and|LOVE|ly|KNIGHTS     b              5       10         1\n",
      "     1.5   THEN|in.the|BLA|zon|OF*|sweet*|BEAU|tys|BEST      c              5       10         8\n",
      "     1.6   of|HAND|of|FOOT|of|LIP|of|EYE|of|BROW             d              5       10         1\n",
      "     1.7   i|SEE|their.an*|TIQUE.PEN*|would|HAVE|ex|PRESSD   c              4       10         5\n",
      "     1.8   EV|en|SUCH*|a|BEAU|ty|AS*|you|MAS|ter|NOW         d              6       11         1\n",
      "     1.9   so|ALL|their|PRAIS|es|ARE*|but|PRO|phe|CIES*      e              5       10         3\n",
      "     1.1   OF*|this.our|TIME|all|YOU*|pre|FIG|ur|ING*        f              5       10        15\n",
      "     1.11  and.for|THEY.LOOKD*|but|WITH*|di|VIN|ing|EYES     e              4       10         3\n",
      "     1.12  THEY|had.not|SKILL|en|OUGH|your|WORTH|to|SING     f              5       10         2\n",
      "     1.13  for|WE|which|NOW|be|HOLD|these|PRE|sent|DAYS      e              5       10         1\n",
      "     1.14  had|EYES|to|WON|der|BUT*|lack*|TONGUES|to|PRAISE  e              5       10         3\n",
      "\n",
      "\n",
      "estimated schema\n",
      "----------\n",
      "meter: Iambic\n",
      "feet: Pentameter\n",
      "syllables: 10\n",
      "rhyme: Sonnet, Shakespearean (abab cdcd efefgg)\n"
     ]
    }
   ],
   "source": [
    "# See how poetix understood the poem\n",
    "sonnet.summary()"
   ]
  },
  {
   "cell_type": "code",
   "execution_count": 9,
   "metadata": {},
   "outputs": [
    {
     "data": {
      "text/plain": [
       "{'beat_scheme': (5,),\n",
       " 'beat_scheme_diff': 6,\n",
       " 'beat_scheme_length': 1,\n",
       " 'beat_scheme_repr': 'Pentameter',\n",
       " 'beat_scheme_type': 'Invariable',\n",
       " 'meter_ambiguity': 3.5,\n",
       " 'meter_constraint_TOTAL': 0.14285714285714285,\n",
       " 'meter_constraint_footmin-f-resolution': 0.022556390977443608,\n",
       " 'meter_constraint_footmin-w-resolution': 0.0,\n",
       " 'meter_constraint_strength_w=>-p': 0.0,\n",
       " 'meter_constraint_stress_s=>-u': 0.09774436090225563,\n",
       " 'meter_constraint_stress_w=>-p': 0.022556390977443608,\n",
       " 'meter_length_avg_line': 10.071428571428571,\n",
       " 'meter_length_avg_parse': 10.071428571428571,\n",
       " 'meter_mpos_s': 0.5037593984962406,\n",
       " 'meter_mpos_ss': 0.015037593984962405,\n",
       " 'meter_mpos_w': 0.43609022556390975,\n",
       " 'meter_mpos_ww': 0.045112781954887216,\n",
       " 'meter_perc_lines_ending_s': 1.0,\n",
       " 'meter_perc_lines_fourthpos_s': 0.8571428571428571,\n",
       " 'meter_perc_lines_fourthpos_w': 0.14285714285714285,\n",
       " 'meter_perc_lines_starting_s': 0.35714285714285715,\n",
       " 'meter_perc_lines_starting_w': 0.6428571428571429,\n",
       " 'meter_type_foot': 'binary',\n",
       " 'meter_type_head': 'final',\n",
       " 'meter_type_scheme': 'iambic',\n",
       " 'num_lines': 14,\n",
       " 'rhyme_scheme': ('Sonnet, Shakespearean', 'abab cdcd efefgg'),\n",
       " 'rhyme_scheme_accuracy': 0.6363636363636364,\n",
       " 'rhyme_scheme_form': 'abab cdcd efefgg',\n",
       " 'rhyme_scheme_name': 'Sonnet, Shakespearean',\n",
       " 'rhyme_schemes': [(('Quatrain And Triplet', 'ababccc'), 0.4),\n",
       "  (('Sonnet C', 'ababacdc edefef'), 0.4),\n",
       "  (('Sonnet E', 'abab cbcd cdedee'), 0.4117647058823529),\n",
       "  (('Sonnet A', 'abab cdcd eefeff'), 0.6153846153846154),\n",
       "  (('Sonnet, Shakespearean', 'abab cdcd efefgg'), 0.6363636363636364)],\n",
       " 'syll_scheme': (10,),\n",
       " 'syll_scheme_diff': 1,\n",
       " 'syll_scheme_length': 1,\n",
       " 'syll_scheme_repr': 10,\n",
       " 'syll_scheme_type': 'Invariable'}"
      ]
     },
     "execution_count": 9,
     "metadata": {},
     "output_type": "execute_result"
    }
   ],
   "source": [
    "# Get all the statistics\n",
    "sonnet.statd"
   ]
  },
  {
   "cell_type": "code",
   "execution_count": 3,
   "metadata": {},
   "outputs": [],
   "source": [
    "la_belle_dame = Poem(fn='poems/keats.la_belle_dame_sans_merci.txt')"
   ]
  },
  {
   "cell_type": "code",
   "execution_count": 5,
   "metadata": {},
   "outputs": [
    {
     "name": "stdout",
     "output_type": "stream",
     "text": [
      "  (#s,#l)  parse                                         rhyme      #feet    #syll    #parse\n",
      "---------  --------------------------------------------  -------  -------  -------  --------\n",
      "      1.1  o|WHAT|can|AIL|thee|KNIGHT|at|ARMS            -              4        8         1\n",
      "      1.2  al|ONE|and|PALE|ly|LOI|tering                 b              3        7         1\n",
      "      1.3  the|SEDGE|has|WITH|ered|FROM*|the|LAKE        b              4        8         2\n",
      "      1.4  and|NO|birds*|SING                            b              2        4         1\n",
      "\n",
      "      2.1  o|WHAT|can|AIL|thee|KNIGHT|at|ARMS            c              4        8         1\n",
      "      2.2  so|HAG|gard|AND*|so|WOE|be|GONE               c              4        8         2\n",
      "      2.3  the|SQUIR|rel’s|GR|an|ARY*|is|FULL            -              4        8         3\n",
      "      2.4  and.the|HAR|vest’s|DONE                       -              2        5         1\n",
      "\n",
      "      3.1  i|SEE|a|LI|ly|ON*|thy|BROW                    f              4        8         2\n",
      "      3.2  with|AN|guish|MOIST|and|FEV|er|DEW            f              4        8         1\n",
      "      3.3  AND*|on.thy|CHEEKS|a|FAD|ing|ROSE             -              4        8         2\n",
      "      3.4  FAST.WI*|th.ereth*|TOO                        f              2        5         4\n",
      "\n",
      "      4.1  i|MET|a|LA|dy|IN|the|MEADS                    -              4        8         1\n",
      "      4.2  FULL.BEAU*|ti|FUL*|a|FA|ery’s|CHILD           i              4        8         2\n",
      "      4.3  her|HAIR|was|LONG|her|FOOT|was|LIGHT          i              4        8         1\n",
      "      4.4  and.her|EYES|were|WILD                        i              2        5         1\n",
      "\n",
      "      5.1  i|MADE|a|GAR|land|FOR*|her|HEAD               -              4        8         1\n",
      "      5.2  and|BRAC|elets|TOO|and|FRA|grant|ZONE         k              4        8         1\n",
      "      5.3  SHE|looked*|AT|me.as|SHE|did|LOVE             -              4        8         4\n",
      "      5.4  and|MADE|sweet*|MOAN                          k              2        4         1\n",
      "\n",
      "      6.1  i|SET|her|ON*|my|PAC|ing|STEED                -              4        8         1\n",
      "      6.2  and|NOTH|ing|ELSE|saw*|ALL|day*|LONG          n              4        8         4\n",
      "      6.3  for|SIDE|long|WOULD|she|BEND|and|SING         n              4        8         1\n",
      "      6.4  a|FA|ery’s|SONG                               n              2        4         1\n",
      "\n",
      "      7.1  she|FOUND|me|ROOTS|of|REL|ish|SWEET           o              4        8         1\n",
      "      7.2  and|HON|ey|WILD|and|MAN|na|DEW                p              4        8         1\n",
      "      7.3  and|SURE|in|LAN|guage|STRANGE|she|SAID        o              4        8         1\n",
      "      7.4  i|LOVE|thee|TRUE                              p              2        4         1\n",
      "\n",
      "      8.1  she|TOOK|me|TO*|her|EL|fin|GROT               -              4        8         1\n",
      "      8.2  and.there|SHE.WEPT*|and|SIGHED|full*|SORE     r              3        8         3\n",
      "      8.3  and.there|I.SHUT*|her|WILD|wild*|EYES         -              3        8         3\n",
      "      8.4  with|KISS|es|FOUR                             r              2        4         1\n",
      "\n",
      "      9.1  and.there|SHE|lull*|ED|me.asl*|EEP            -              3        8         9\n",
      "      9.2  and.there|I.DREAMED*|ah|WOE|be|TIDE           u              3        8         3\n",
      "      9.3  the|LAT|est|DREAM|i|EV|er|DREAMT              -              4        8         1\n",
      "      9.4  on.the|COLD|hill*|SIDE                        u              2        5         1\n",
      "\n",
      "     10.1  i|SAW|pale*|KINGS|and|PRI|nces|TOO            -              4        8         1\n",
      "     10.2  PALE.WAR*|riors|DEATH.PALE*|were|THEY|all     x              3        8         8\n",
      "     10.3  THEY|cried*|LA|belle*|DAME|sans*|MER|ci       -              4        8         7\n",
      "     10.4  thee|HATH|in|THRALL                           x              2        4         1\n",
      "\n",
      "     11.1  i|SAW|their|STARVED.LIPS*|in.the|GLOAM        -              3        8         2\n",
      "     11.2  with|HOR|rid|WARN|ing|GAP|ed*|WIDE            27             4        8         1\n",
      "     11.3  and|I|aw|OKE|and|FOUND|me|HERE                -              4        8         2\n",
      "     11.4  on.the|COLD|hill’s*|SIDE                      27             2        5         1\n",
      "\n",
      "     12.1  and.this|IS|why.i|SO|journ|HERE               29             3        8         1\n",
      "     12.2  al|ONE|and|PALE|ly|LOI|tering                 29             3        7         1\n",
      "     12.3  though.the|SEDGE|is|WITH|ered|FROM*|the|LAKE  29             4        9         2\n",
      "     12.4  and|NO|birds*|SING                            29             2        4         1\n",
      "\n",
      "\n",
      "estimated schema\n",
      "----------\n",
      "meter: Iambic\n",
      "feet: Complex (4-4-4-2)\n",
      "syllables: Complex (8-8-8-4)\n",
      "rhyme: Alternating B (abcb)\n"
     ]
    }
   ],
   "source": [
    "# See how poetix understood the poem\n",
    "la_belle_dame.summary()"
   ]
  },
  {
   "cell_type": "code",
   "execution_count": null,
   "metadata": {},
   "outputs": [],
   "source": [
    "sonnet.prosodic[(1,1)].allParses()"
   ]
  },
  {
   "cell_type": "code",
   "execution_count": null,
   "metadata": {},
   "outputs": [],
   "source": [
    "# Syllable scheme\n",
    "sonnet.statd"
   ]
  },
  {
   "cell_type": "code",
   "execution_count": null,
   "metadata": {},
   "outputs": [],
   "source": []
  }
 ],
 "metadata": {
  "kernelspec": {
   "display_name": "Python 2",
   "language": "python",
   "name": "python2"
  },
  "language_info": {
   "codemirror_mode": {
    "name": "ipython",
    "version": 2
   },
   "file_extension": ".py",
   "mimetype": "text/x-python",
   "name": "python",
   "nbconvert_exporter": "python",
   "pygments_lexer": "ipython2",
   "version": "2.7.15"
  }
 },
 "nbformat": 4,
 "nbformat_minor": 2
}
