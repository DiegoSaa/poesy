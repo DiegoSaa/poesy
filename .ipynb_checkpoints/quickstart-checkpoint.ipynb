{
 "cells": [
  {
   "cell_type": "markdown",
   "metadata": {},
   "source": [
    "# Quickstart to Poetix"
   ]
  },
  {
   "cell_type": "code",
   "execution_count": 1,
   "metadata": {},
   "outputs": [
    {
     "name": "stdout",
     "output_type": "stream",
     "text": [
      ">> reading as xls: /Users/ryan/DH/poetry/rhyme/schemes.xls\n",
      ">> done [0.1 seconds]\n"
     ]
    }
   ],
   "source": [
    "import poetix"
   ]
  },
  {
   "cell_type": "code",
   "execution_count": null,
   "metadata": {},
   "outputs": [],
   "source": [
    "poem = poetic.Poem(u\"\"\"\n",
    "Or I shall live your epitaph to make,\n",
    "Or you survive when I in earth am rotten;\n",
    "From hence your memory death cannot take,\n",
    "Although in me each part will be forgotten.\n",
    "Your name from hence immortal life shall have,\n",
    "Though I, once gone, to all the world must die:\n",
    "The earth can yield me but a common grave,\n",
    "When you entombed in men's eyes shall lie.\n",
    "Your monument shall be my gentle verse,\n",
    "Which eyes not yet created shall o'er-read,\n",
    "And tongues to be your being shall rehearse\n",
    "When all the breathers of this world are dead;\n",
    "You still shall live--such virtue hath my pen--\n",
    "Where breath most breathes, even in the mouths of men.\n",
    "\"\"\")"
   ]
  },
  {
   "cell_type": "code",
   "execution_count": null,
   "metadata": {},
   "outputs": [],
   "source": [
    "poem.lined"
   ]
  },
  {
   "cell_type": "code",
   "execution_count": null,
   "metadata": {},
   "outputs": [],
   "source": [
    "poem.linelengths"
   ]
  },
  {
   "cell_type": "code",
   "execution_count": null,
   "metadata": {},
   "outputs": [],
   "source": [
    "#poem.linelengths_bybeat"
   ]
  },
  {
   "cell_type": "code",
   "execution_count": null,
   "metadata": {},
   "outputs": [],
   "source": [
    "poem.schemed"
   ]
  },
  {
   "cell_type": "code",
   "execution_count": null,
   "metadata": {},
   "outputs": [],
   "source": [
    "#poem.statd"
   ]
  },
  {
   "cell_type": "code",
   "execution_count": null,
   "metadata": {},
   "outputs": [],
   "source": [
    "#poem.rhymed"
   ]
  },
  {
   "cell_type": "markdown",
   "metadata": {},
   "source": [
    "## Testing a range of sonnets"
   ]
  },
  {
   "cell_type": "code",
   "execution_count": null,
   "metadata": {},
   "outputs": [],
   "source": [
    "shakespeare_sonnets_fn='/Users/ryan/DH/prosodic/corpora/shakespeare/sonnets-all.txt'"
   ]
  },
  {
   "cell_type": "code",
   "execution_count": null,
   "metadata": {},
   "outputs": [],
   "source": [
    "shakespeare_sonnets_txts = [x.strip() for x in open(shakespeare_sonnets_fn).read().split('\\n\\n') if x.strip()]"
   ]
  },
  {
   "cell_type": "code",
   "execution_count": null,
   "metadata": {},
   "outputs": [],
   "source": [
    "sonnets=[]\n",
    "for sonnet_txt in shakespeare_sonnets_txts:\n",
    "    poem=poetic.Poem(sonnet_txt)\n",
    "    sonnets+=[poem]"
   ]
  },
  {
   "cell_type": "code",
   "execution_count": null,
   "metadata": {},
   "outputs": [],
   "source": [
    "def test_sonnets():\n",
    "    isSonnets=[]\n",
    "    isShakeSonnets=[]\n",
    "    for i,poem in enumerate(sonnets):\n",
    "        #print poem.rhymed['rhyme_scheme']\n",
    "        #print\n",
    "        #print\n",
    "        isSonnet=poem.isSonnet\n",
    "        isShakeSonnet=poem.isShakespeareanSonnet\n",
    "        rhyme_scheme=poem.rhymed['rhyme_scheme']\n",
    "        print i,'\\t',i+1,'\\t',poem.firstline[:10],'\\t',isSonnet,'\\t',isShakeSonnet,'\\t',rhyme_scheme[0],'\\t',rhyme_scheme[1]\n",
    "        isSonnets+=[isSonnet]\n",
    "        isShakeSonnets+=[isShakeSonnet]\n",
    "        #break\n",
    "\n",
    "    import numpy as np\n",
    "    print sum(isSonnets),sum(isShakeSonnets)"
   ]
  },
  {
   "cell_type": "code",
   "execution_count": null,
   "metadata": {},
   "outputs": [],
   "source": [
    "#test_sonnets()"
   ]
  },
  {
   "cell_type": "code",
   "execution_count": null,
   "metadata": {},
   "outputs": [],
   "source": [
    "# sonnet1=[poem for poem in sonnets if poem.firstline=='In loving thee thou know\\'st I am forsworn,'][0]"
   ]
  },
  {
   "cell_type": "code",
   "execution_count": null,
   "metadata": {},
   "outputs": [],
   "source": [
    "# sonnet1.rhyme_net(toprint=True)\n",
    "# sonnet1.rhymed\n",
    "# sonnet1.rime_ids"
   ]
  },
  {
   "cell_type": "code",
   "execution_count": null,
   "metadata": {},
   "outputs": [],
   "source": [
    "def inspect_sonnet(poem):\n",
    "    if type(poem) in [str,unicode]: poem=poetic.Poem(poem)\n",
    "    poem.rhyme_net(toprint=True,force=True)\n",
    "    print poem.rime_ids\n",
    "    return poem.rhymed"
   ]
  },
  {
   "cell_type": "code",
   "execution_count": null,
   "metadata": {},
   "outputs": [],
   "source": [
    "#inspect_sonnet(sonnets[137])"
   ]
  },
  {
   "cell_type": "code",
   "execution_count": null,
   "metadata": {},
   "outputs": [],
   "source": [
    "def test_rimes(xstr,ystr,zstr):\n",
    "    import prosodic as p\n",
    "    x=p.Word(xstr)\n",
    "    y=p.Word(ystr)\n",
    "    z=p.Word(zstr)\n",
    "    \n",
    "    xr=x.rimes()[-1].phonstr()\n",
    "    yr=y.rimes()[-1].phonstr()\n",
    "    zr=z.rimes()[-1].phonstr()\n",
    "\n",
    "    print x.phonemes()\n",
    "    print y.phonemes()\n",
    "    print z.phonemes()\n",
    "    \n",
    "    print xstr,xr,ystr,yr,x.rime_distance(y)\n",
    "    print xstr,xr,zstr,zr,x.rime_distance(z)\n",
    "    print ystr,yr,zstr,zr,y.rime_distance(z)"
   ]
  },
  {
   "cell_type": "code",
   "execution_count": null,
   "metadata": {},
   "outputs": [],
   "source": [
    "#test_rimes('suppress\\'d','unjust','best')"
   ]
  },
  {
   "cell_type": "code",
   "execution_count": null,
   "metadata": {},
   "outputs": [],
   "source": [
    "#sonnets[0].statd"
   ]
  },
  {
   "cell_type": "markdown",
   "metadata": {},
   "source": [
    "## Testing other genres"
   ]
  },
  {
   "cell_type": "code",
   "execution_count": null,
   "metadata": {},
   "outputs": [],
   "source": [
    "def inspect(poemstr):\n",
    "    poem=poetic.Poem(poemstr)\n",
    "    poem.rhyme_net(force=True,toprint=True)\n",
    "    return poem.statd"
   ]
  },
  {
   "cell_type": "code",
   "execution_count": null,
   "metadata": {},
   "outputs": [],
   "source": [
    "def test_genre_file(docfn,correct_form=''):\n",
    "    \"\"\"\n",
    "    Test a docx file of examples separated by <poem></poem>\n",
    "    collected by RAs in the Lit Lab\n",
    "    original data here https://drive.google.com/drive/folders/1bErvebzKt5IQVTCagsZMEXlZxVOGFH27\n",
    "    \"\"\"\n",
    "    \n",
    "    import docx2txt\n",
    "    text = docx2txt.process(docfn).replace('\\r\\n','\\n').replace('\\r','\\n')\n",
    "    poems = [poem.split('</poem>')[0].strip() for poem in text.split('<poem>')[1:]]\n",
    "    poems = [poem.replace('\\n\\n','\\n') if not '\\n' in poem.replace('\\n\\n','') else poem  for poem in poems]\n",
    "    \n",
    "    for poem in poems:\n",
    "        try:\n",
    "            poemd=poetic.Poem(poem).statd\n",
    "        except (AttributeError,ValueError) as e:\n",
    "            continue\n",
    "        poemd['correct_form']=correct_form\n",
    "        yield poemd"
   ]
  },
  {
   "cell_type": "code",
   "execution_count": null,
   "metadata": {},
   "outputs": [],
   "source": [
    "for d in test_genre_file('metadata/form_examples_2018/Heroic Couplets.docx'):\n",
    "    print d\n",
    "    break"
   ]
  },
  {
   "cell_type": "code",
   "execution_count": null,
   "metadata": {},
   "outputs": [],
   "source": [
    "import pytxt,os\n",
    "def test_all(fldr='metadata/form_examples_2018/'):\n",
    "    for fn in os.listdir(fldr):\n",
    "        if not fn.endswith('.docx'): continue\n",
    "        fnfn=os.path.join(fldr,fn)\n",
    "        correct_form=fn.split('.')[0]\n",
    "        for d in test_genre_file(fnfn,correct_form=correct_form):\n",
    "            yield d"
   ]
  },
  {
   "cell_type": "code",
   "execution_count": null,
   "metadata": {},
   "outputs": [],
   "source": [
    "pytxt.writegen('data.form_examples_2018.txt',test_all)"
   ]
  },
  {
   "cell_type": "code",
   "execution_count": null,
   "metadata": {},
   "outputs": [],
   "source": []
  }
 ],
 "metadata": {
  "kernelspec": {
   "display_name": "Python 2",
   "language": "python",
   "name": "python2"
  },
  "language_info": {
   "codemirror_mode": {
    "name": "ipython",
    "version": 2
   },
   "file_extension": ".py",
   "mimetype": "text/x-python",
   "name": "python",
   "nbconvert_exporter": "python",
   "pygments_lexer": "ipython2",
   "version": "2.7.15"
  }
 },
 "nbformat": 4,
 "nbformat_minor": 2
}
